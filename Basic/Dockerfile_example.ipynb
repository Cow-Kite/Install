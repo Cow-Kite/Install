{
 "cells": [
  {
   "cell_type": "markdown",
   "metadata": {},
   "source": [
    "## Docker image "
   ]
  },
  {
   "cell_type": "code",
   "execution_count": null,
   "metadata": {
    "vscode": {
     "languageId": "plaintext"
    }
   },
   "outputs": [],
   "source": [
<<<<<<< HEAD
    "# Docker image build\n",
    "sudo docker build -t <Docker hub id>/<image name>"
=======
    "sudo docker build -t (Docker hub id)/(image name)"
>>>>>>> fb0eec3667d432fc3369cbbbc10862e1ddcff569
   ]
  },
  {
   "cell_type": "code",
   "execution_count": null,
   "metadata": {
    "vscode": {
     "languageId": "plaintext"
    }
   },
   "outputs": [],
   "source": [
<<<<<<< HEAD
    "# Docker image run\n",
    "sudo docker run <Docker hub id>/<image name>"
=======
    "sudo docker run (Docker hub id)/(image name)"
>>>>>>> fb0eec3667d432fc3369cbbbc10862e1ddcff569
   ]
  },
  {
   "cell_type": "code",
   "execution_count": null,
   "metadata": {
    "vscode": {
     "languageId": "plaintext"
    }
   },
   "outputs": [],
   "source": [
<<<<<<< HEAD
    "# Dockerhub에 push\n",
    "sudo docker push <Docker hub id>/<image name>:<tag>"
=======
    "sudo docker push (Docker hub id)/(image name):(tag)"
>>>>>>> fb0eec3667d432fc3369cbbbc10862e1ddcff569
   ]
  }
 ],
 "metadata": {
  "language_info": {
   "name": "python"
  },
  "orig_nbformat": 4
 },
 "nbformat": 4,
 "nbformat_minor": 2
}
